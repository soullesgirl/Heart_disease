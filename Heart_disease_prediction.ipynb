{
 "cells": [
  {
   "cell_type": "code",
   "execution_count": 3,
   "id": "4fb73585",
   "metadata": {},
   "outputs": [],
   "source": [
    "import numpy as np           #numpy libeary used to make some numpy array , arrays are like list in python \n",
    "import pandas as pd          #pandas are useful for creating dataframes, daraframes are nothing but a structured table \n",
    "from sklearn.model_selection import train_test_split    #train_test_split- we need to split our original data into training and test data \n",
    "from sklearn.linear_model import LogisticRegression\n",
    "from sklearn.metrics import accuracy_score              #accuracy_score- used to evaluate our model to check how well our model is performing \n",
    "import warnings\n",
    "warnings.filterwarnings(\"ignore\", category=UserWarning)"
   ]
  },
  {
   "cell_type": "code",
   "execution_count": 4,
   "id": "1b68db72",
   "metadata": {},
   "outputs": [
    {
     "name": "stdout",
     "output_type": "stream",
     "text": [
      "<class 'pandas.core.frame.DataFrame'>\n",
      "RangeIndex: 303 entries, 0 to 302\n",
      "Data columns (total 14 columns):\n",
      " #   Column    Non-Null Count  Dtype  \n",
      "---  ------    --------------  -----  \n",
      " 0   Age       303 non-null    int64  \n",
      " 1   sex       303 non-null    int64  \n",
      " 2   cp        303 non-null    int64  \n",
      " 3   trestbps  303 non-null    int64  \n",
      " 4   chol      303 non-null    int64  \n",
      " 5   fbs       303 non-null    int64  \n",
      " 6   restecg   303 non-null    int64  \n",
      " 7   thalach   303 non-null    int64  \n",
      " 8   exang     303 non-null    int64  \n",
      " 9   oldpeak   303 non-null    float64\n",
      " 10  slope     303 non-null    int64  \n",
      " 11  ca        303 non-null    int64  \n",
      " 12  thal      303 non-null    int64  \n",
      " 13  target    303 non-null    int64  \n",
      "dtypes: float64(1), int64(13)\n",
      "memory usage: 33.3 KB\n"
     ]
    },
    {
     "data": {
      "text/plain": [
       "1    165\n",
       "0    138\n",
       "Name: target, dtype: int64"
      ]
     },
     "execution_count": 4,
     "metadata": {},
     "output_type": "execute_result"
    }
   ],
   "source": [
    "#data collection and processing \n",
    "#loading the csv data to a pandas dataframe \n",
    "heart_data = pd.read_csv(r'C:\\Users\\mitra\\OneDrive\\Desktop\\heart_disease_data_csv.csv') # read_csv function will read a csv file and store it in a pandas dataframe\n",
    "\n",
    "df = pd.read_excel(r\"C:\\Users\\mitra\\OneDrive\\Desktop\\heart_disease_data.xlsx\")  # For Excel files\n",
    "\n",
    "#print first 5 rows of the dataset \n",
    "heart_data.head() #head function will print out the first 5 rows\n",
    "\n",
    "#print last 5 rows of the dataset\n",
    "heart_data.tail() # tail function will print out the last 5 rows\n",
    "\n",
    "# number of rows and columns in the dataset\n",
    "heart_data.shape\n",
    "\n",
    "# getting some info about the data\n",
    "heart_data.info()\n",
    "\n",
    "#checking for missing values\n",
    "heart_data.isnull().sum()\n",
    "\n",
    "# statistical measures about the data\n",
    "heart_data.describe()\n",
    "\n",
    "# checking the distribution of the target variable\n",
    "heart_data['target'].value_counts()"
   ]
  },
  {
   "cell_type": "code",
   "execution_count": 5,
   "id": "f1d5e515",
   "metadata": {},
   "outputs": [
    {
     "name": "stdout",
     "output_type": "stream",
     "text": [
      "     Age  sex  cp  trestbps  chol  fbs  restecg  thalach  exang  oldpeak  \\\n",
      "0     63    1   3       145   233    1        0      150      0      2.3   \n",
      "1     37    1   2       130   250    0        1      187      0      3.5   \n",
      "2     41    0   1       130   204    0        0      172      0      1.4   \n",
      "3     56    1   1       120   236    0        1      178      0      0.8   \n",
      "4     57    0   0       120   354    0        1      163      1      0.6   \n",
      "..   ...  ...  ..       ...   ...  ...      ...      ...    ...      ...   \n",
      "298   57    0   0       140   241    0        1      123      1      0.2   \n",
      "299   45    1   3       110   264    0        1      132      0      1.2   \n",
      "300   68    1   0       144   193    1        1      141      0      3.4   \n",
      "301   57    1   0       130   131    0        1      115      1      1.2   \n",
      "302   57    0   1       130   236    0        0      174      0      0.0   \n",
      "\n",
      "     slope  ca  thal  \n",
      "0        0   0     1  \n",
      "1        0   0     2  \n",
      "2        2   0     2  \n",
      "3        2   0     2  \n",
      "4        2   0     2  \n",
      "..     ...  ..   ...  \n",
      "298      1   0     3  \n",
      "299      1   0     3  \n",
      "300      1   2     3  \n",
      "301      1   1     3  \n",
      "302      1   1     2  \n",
      "\n",
      "[303 rows x 13 columns]\n",
      "0      1\n",
      "1      1\n",
      "2      1\n",
      "3      1\n",
      "4      1\n",
      "      ..\n",
      "298    0\n",
      "299    0\n",
      "300    0\n",
      "301    0\n",
      "302    0\n",
      "Name: target, Length: 303, dtype: int64\n",
      "(303, 13) (242, 13) (61, 13)\n"
     ]
    }
   ],
   "source": [
    "# 1- defective heart \n",
    "# 0- healthy heart\n",
    "# splitting the features and target\n",
    "#X = heart_data.drop(columns = 'target',axis=1)  #whenever you are dropping a column you need to mention the axis =1 and in case of row , axis=0\n",
    "X=heart_data.iloc[:,:-1 ]\n",
    "Y = heart_data['target']\n",
    "\n",
    "print (X)\n",
    "\n",
    "print(Y)\n",
    "\n",
    "# splitting the data into training data and test data\n",
    "# stratify function will distribute the two classes 1 and 0 in an even manner throughout your training and test data \n",
    "X_train,X_test,Y_train,Y_test = train_test_split(X,Y,test_size=0.2, stratify=Y, random_state =2)\n",
    "# 0.2 repesent the 20%  of the data \n",
    "\n",
    "# x.shape - original data \n",
    "print (X.shape, X_train.shape, X_test.shape)"
   ]
  },
  {
   "cell_type": "code",
   "execution_count": 6,
   "id": "f4718c54",
   "metadata": {},
   "outputs": [
    {
     "name": "stdout",
     "output_type": "stream",
     "text": [
      "Accuracy on Training data:  0.8553719008264463\n"
     ]
    }
   ],
   "source": [
    "# Model training\n",
    "# Logistic Regression\n",
    "\n",
    "model= LogisticRegression(max_iter=1000)\n",
    "\n",
    "# training the logistic regression model with training data\n",
    "model.fit(X_train, Y_train)\n",
    "\n",
    "# model evaluation \n",
    "# accuracy score\n",
    "# accuracy on training data \n",
    "X_train_prediction= model.predict(X_train)\n",
    "training_data_accuracy = accuracy_score(X_train_prediction, Y_train)\n",
    "\n",
    "print('Accuracy on Training data: ', training_data_accuracy) #85% accuracy score"
   ]
  },
  {
   "cell_type": "code",
   "execution_count": 7,
   "id": "badb39eb",
   "metadata": {},
   "outputs": [
    {
     "name": "stdout",
     "output_type": "stream",
     "text": [
      "Accuracy on Test data:  0.8032786885245902\n",
      "[1]\n",
      "The person has Heart Disease\n"
     ]
    }
   ],
   "source": [
    "# accuracy on test data \n",
    "X_test_prediction= model.predict(X_test)\n",
    "test_data_accuracy = accuracy_score(X_test_prediction, Y_test)\n",
    "\n",
    "print('Accuracy on Test data: ', test_data_accuracy) #81% accuracy score\n",
    "\n",
    "# buliding a predictive system\n",
    "input_data=(41,0,1,130,204,0,0,172,0,1.4,2,0,2)\n",
    "# change the data to a numpy array\n",
    "input_data_as_numpy_array= np.asarray(input_data) #asarray function will convert data type into numpy array\n",
    "# reshape the numpy array as we are predicting for only on instance \n",
    "input_data_reshape = input_data_as_numpy_array.reshape(1,-1)\n",
    "prediction = model.predict(input_data_reshape)\n",
    "print(prediction)\n",
    "\n",
    "if(prediction[0]==0):\n",
    "    print(' The person does not have Heart Disease')\n",
    "else:\n",
    "    print('The person has Heart Disease')"
   ]
  }
 ],
 "metadata": {
  "kernelspec": {
   "display_name": "Python 3 (ipykernel)",
   "language": "python",
   "name": "python3"
  },
  "language_info": {
   "codemirror_mode": {
    "name": "ipython",
    "version": 3
   },
   "file_extension": ".py",
   "mimetype": "text/x-python",
   "name": "python",
   "nbconvert_exporter": "python",
   "pygments_lexer": "ipython3",
   "version": "3.9.12"
  }
 },
 "nbformat": 4,
 "nbformat_minor": 5
}
