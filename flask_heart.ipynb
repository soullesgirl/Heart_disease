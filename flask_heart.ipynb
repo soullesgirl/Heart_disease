{
 "cells": [
  {
   "cell_type": "code",
   "execution_count": 1,
   "id": "129330e8",
   "metadata": {
    "scrolled": true
   },
   "outputs": [
    {
     "name": "stdout",
     "output_type": "stream",
     "text": [
      "Requirement already satisfied: flask in c:\\users\\mitra\\anaconda3\\lib\\site-packages (3.0.0)\n",
      "Requirement already satisfied: Werkzeug>=3.0.0 in c:\\users\\mitra\\anaconda3\\lib\\site-packages (from flask) (3.0.1)\n",
      "Requirement already satisfied: blinker>=1.6.2 in c:\\users\\mitra\\anaconda3\\lib\\site-packages (from flask) (1.7.0)\n",
      "Requirement already satisfied: importlib-metadata>=3.6.0 in c:\\users\\mitra\\anaconda3\\lib\\site-packages (from flask) (4.11.3)\n",
      "Requirement already satisfied: Jinja2>=3.1.2 in c:\\users\\mitra\\anaconda3\\lib\\site-packages (from flask) (3.1.2)\n",
      "Requirement already satisfied: itsdangerous>=2.1.2 in c:\\users\\mitra\\anaconda3\\lib\\site-packages (from flask) (2.1.2)\n",
      "Requirement already satisfied: click>=8.1.3 in c:\\users\\mitra\\anaconda3\\lib\\site-packages (from flask) (8.1.7)\n",
      "Requirement already satisfied: colorama in c:\\users\\mitra\\anaconda3\\lib\\site-packages (from click>=8.1.3->flask) (0.4.4)\n",
      "Requirement already satisfied: zipp>=0.5 in c:\\users\\mitra\\anaconda3\\lib\\site-packages (from importlib-metadata>=3.6.0->flask) (3.7.0)\n",
      "Requirement already satisfied: MarkupSafe>=2.0 in c:\\users\\mitra\\anaconda3\\lib\\site-packages (from Jinja2>=3.1.2->flask) (2.1.3)\n"
     ]
    }
   ],
   "source": [
    "! pip install flask"
   ]
  },
  {
   "cell_type": "code",
   "execution_count": 4,
   "id": "4e410872",
   "metadata": {},
   "outputs": [
    {
     "name": "stdout",
     "output_type": "stream",
     "text": [
      "Requirement already satisfied: pymysql in c:\\users\\mitra\\anaconda3\\lib\\site-packages (1.1.0)\n",
      "Note: you may need to restart the kernel to use updated packages.\n"
     ]
    }
   ],
   "source": [
    "pip install pymysql"
   ]
  },
  {
   "cell_type": "code",
   "execution_count": 5,
   "id": "9651e7e9",
   "metadata": {
    "scrolled": true
   },
   "outputs": [
    {
     "name": "stdout",
     "output_type": "stream",
     "text": [
      "Requirement already satisfied: mysql-connector-python in c:\\users\\mitra\\anaconda3\\lib\\site-packages (8.2.0)\n",
      "Requirement already satisfied: protobuf<=4.21.12,>=4.21.1 in c:\\users\\mitra\\anaconda3\\lib\\site-packages (from mysql-connector-python) (4.21.12)\n",
      "Note: you may need to restart the kernel to use updated packages.\n"
     ]
    }
   ],
   "source": [
    "pip install --upgrade mysql-connector-python"
   ]
  },
  {
   "cell_type": "code",
   "execution_count": 1,
   "id": "36bdf173",
   "metadata": {
    "scrolled": false
   },
   "outputs": [
    {
     "name": "stdout",
     "output_type": "stream",
     "text": [
      "Authentication plugin 'caching_sha2_password' is not supported\n",
      " * Serving Flask app '__main__'\n",
      " * Debug mode: off\n"
     ]
    },
    {
     "name": "stderr",
     "output_type": "stream",
     "text": [
      "WARNING: This is a development server. Do not use it in a production deployment. Use a production WSGI server instead.\n",
      " * Running on http://127.0.0.1:5000\n",
      "Press CTRL+C to quit\n",
      "127.0.0.1 - - [25/Jan/2024 13:38:45] \"GET / HTTP/1.1\" 200 -\n",
      "127.0.0.1 - - [25/Jan/2024 13:38:45] \"GET /favicon.ico HTTP/1.1\" 404 -\n",
      "C:\\Users\\mitra\\anaconda3\\lib\\site-packages\\sklearn\\base.py:450: UserWarning: X does not have valid feature names, but LogisticRegression was fitted with feature names\n",
      "  warnings.warn(\n",
      "127.0.0.1 - - [25/Jan/2024 13:39:32] \"POST /predict HTTP/1.1\" 200 -\n",
      "C:\\Users\\mitra\\anaconda3\\lib\\site-packages\\sklearn\\base.py:450: UserWarning: X does not have valid feature names, but LogisticRegression was fitted with feature names\n",
      "  warnings.warn(\n",
      "127.0.0.1 - - [25/Jan/2024 13:45:06] \"POST /predict HTTP/1.1\" 200 -\n",
      "C:\\Users\\mitra\\anaconda3\\lib\\site-packages\\sklearn\\base.py:450: UserWarning: X does not have valid feature names, but LogisticRegression was fitted with feature names\n",
      "  warnings.warn(\n",
      "127.0.0.1 - - [25/Jan/2024 13:45:59] \"POST /predict HTTP/1.1\" 200 -\n",
      "C:\\Users\\mitra\\anaconda3\\lib\\site-packages\\sklearn\\base.py:450: UserWarning: X does not have valid feature names, but LogisticRegression was fitted with feature names\n",
      "  warnings.warn(\n",
      "127.0.0.1 - - [25/Jan/2024 13:46:01] \"POST /predict HTTP/1.1\" 200 -\n",
      "C:\\Users\\mitra\\anaconda3\\lib\\site-packages\\sklearn\\base.py:450: UserWarning: X does not have valid feature names, but LogisticRegression was fitted with feature names\n",
      "  warnings.warn(\n",
      "127.0.0.1 - - [25/Jan/2024 13:46:15] \"POST /predict HTTP/1.1\" 200 -\n"
     ]
    }
   ],
   "source": [
    "import mysql.connector\n",
    "from mysql.connector import connection\n",
    "from mysql.connector import errorcode\n",
    "from flask import Flask, render_template, request, jsonify\n",
    "import numpy as np\n",
    "import pandas as pd\n",
    "from sklearn.model_selection import train_test_split  # Add this import\n",
    "from sklearn.linear_model import LogisticRegression\n",
    "from sklearn.metrics import accuracy_score\n",
    "import joblib\n",
    "import io\n",
    "\n",
    "app = Flask(__name__)\n",
    "\n",
    "# Load and preprocess the dataset\n",
    "heart_data = pd.read_csv(r'C:\\Users\\mitra\\OneDrive\\Desktop\\heart_disease_data_csv.csv')\n",
    "X = heart_data.iloc[:, :-1]\n",
    "Y = heart_data['target']\n",
    "\n",
    "X_train, X_test, Y_train, Y_test = train_test_split(X, Y, test_size=0.2, stratify=Y, random_state=2)\n",
    "# Load your machine learning model\n",
    "model = LogisticRegression(max_iter=1000)\n",
    "model.fit(X_train, Y_train)\n",
    "\n",
    "try:\n",
    "    cnx = mysql.connector.connect(user='root', password='smriti1234', database='heart_disease_data_csv')\n",
    "except mysql.connector.Error as err:\n",
    "    if err.errno == errorcode.ER_ACCESS_DENIED_ERROR:\n",
    "        print(\"Something is wrong with your user name or password\")\n",
    "    elif err.errno == errorcode.ER_BAD_DB_ERROR:\n",
    "        print(\"Database does not exist\")\n",
    "    else:\n",
    "        print(err)\n",
    "else:\n",
    "    cnx.close()\n",
    "\n",
    "@app.route(\"/\")\n",
    "@app.route(\"/home\")\n",
    "def home():\n",
    "    return render_template(\"Index.html\")\n",
    "\n",
    "@app.route('/predict', methods=['GET', 'POST'])\n",
    "def predict():\n",
    "    try:\n",
    "        input1 = float(request.form.get('Age')) if request.form.get('Age') is not None else 0.0\n",
    "        input2 = float(request.form.get('gender')) if request.form.get('gender') is not None else 0.0\n",
    "        input3 = float(request.form.get('cp')) if request.form.get('cp') is not None else 0.0\n",
    "        input4 = float(request.form.get('trestbps')) if request.form.get('trestbps') is not None else 0.0\n",
    "        input5 = float(request.form.get('chol')) if request.form.get('chol') is not None else 0.0\n",
    "        input6 = float(request.form.get('fbs')) if request.form.get('fbs') is not None else 0.0\n",
    "        input7 = float(request.form.get('restecg')) if request.form.get('restecg') is not None else 0.0\n",
    "        input8 = float(request.form.get('thalach')) if request.form.get('thalach') is not None else 0.0\n",
    "        input9 = float(request.form.get('exang')) if request.form.get('exang') is not None else 0.0\n",
    "        input10 = float(request.form.get('oldpeak')) if request.form.get('oldpeak') is not None else 0.0\n",
    "        input11 = float(request.form.get('slope')) if request.form.get('slope') is not None else 0.0\n",
    "        input12 = float(request.form.get('ca')) if request.form.get('ca') is not None else 0.0\n",
    "        input13 = float(request.form.get('thal')) if request.form.get('thal') is not None else 0.0\n",
    "\n",
    "        # Use the trained model to make predictions\n",
    "        prediction = model.predict([[input1, input2, input3, input4, input5, input6, input7, input8, input9, input10, input11, input12, input13]])[0]\n",
    "        \n",
    "         # Convert 'int64' to Python int for JSON serialization\n",
    "        prediction = int(prediction)\n",
    "            \n",
    "            \n",
    "        return jsonify({'prediction_result': prediction})\n",
    "    except Exception as e:\n",
    "        return jsonify({'error': str(e)})\n",
    "\n",
    "    # You can save the prediction to the database or perform any other processing here\n",
    "\n",
    "if __name__ == '__main__':\n",
    "    app.run(debug=False)"
   ]
  }
 ],
 "metadata": {
  "kernelspec": {
   "display_name": "Python 3 (ipykernel)",
   "language": "python",
   "name": "python3"
  },
  "language_info": {
   "codemirror_mode": {
    "name": "ipython",
    "version": 3
   },
   "file_extension": ".py",
   "mimetype": "text/x-python",
   "name": "python",
   "nbconvert_exporter": "python",
   "pygments_lexer": "ipython3",
   "version": "3.9.12"
  }
 },
 "nbformat": 4,
 "nbformat_minor": 5
}
